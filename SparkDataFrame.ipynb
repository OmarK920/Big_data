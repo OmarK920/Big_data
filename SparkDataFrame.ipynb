{
  "nbformat": 4,
  "nbformat_minor": 0,
  "metadata": {
    "colab": {
      "provenance": [],
      "include_colab_link": true
    },
    "kernelspec": {
      "name": "python3",
      "display_name": "Python 3"
    },
    "language_info": {
      "name": "python"
    }
  },
  "cells": [
    {
      "cell_type": "markdown",
      "metadata": {
        "id": "view-in-github",
        "colab_type": "text"
      },
      "source": [
        "<a href=\"https://colab.research.google.com/github/OmarK920/Big_data/blob/main/SparkDataFrame.ipynb\" target=\"_parent\"><img src=\"https://colab.research.google.com/assets/colab-badge.svg\" alt=\"Open In Colab\"/></a>"
      ]
    },
    {
      "cell_type": "markdown",
      "source": [
        "**Spark Dataframe**"
      ],
      "metadata": {
        "id": "-z2MFExQblUP"
      }
    },
    {
      "cell_type": "markdown",
      "source": [
        "# Imports"
      ],
      "metadata": {
        "id": "F84D8x_tbc_z"
      }
    },
    {
      "cell_type": "code",
      "execution_count": null,
      "metadata": {
        "colab": {
          "base_uri": "https://localhost:8080/"
        },
        "id": "fNispadXa8fL",
        "outputId": "0f441eef-5022-4d7b-abd6-adce9e55fa7a"
      },
      "outputs": [
        {
          "output_type": "stream",
          "name": "stdout",
          "text": [
            "Looking in indexes: https://pypi.org/simple, https://us-python.pkg.dev/colab-wheels/public/simple/\n",
            "Collecting pyspark\n",
            "  Downloading pyspark-3.4.0.tar.gz (310.8 MB)\n",
            "\u001b[2K     \u001b[90m━━━━━━━━━━━━━━━━━━━━━━━━━━━━━━━━━━━━━━━\u001b[0m \u001b[32m310.8/310.8 MB\u001b[0m \u001b[31m2.8 MB/s\u001b[0m eta \u001b[36m0:00:00\u001b[0m\n",
            "\u001b[?25h  Preparing metadata (setup.py) ... \u001b[?25l\u001b[?25hdone\n",
            "Requirement already satisfied: py4j==0.10.9.7 in /usr/local/lib/python3.10/dist-packages (from pyspark) (0.10.9.7)\n",
            "Building wheels for collected packages: pyspark\n",
            "  Building wheel for pyspark (setup.py) ... \u001b[?25l\u001b[?25hdone\n",
            "  Created wheel for pyspark: filename=pyspark-3.4.0-py2.py3-none-any.whl size=311317130 sha256=5c86f02348b2e2ecdb18c2c6adc91dbee6a3faa9238919819128bb4b549df9f5\n",
            "  Stored in directory: /root/.cache/pip/wheels/7b/1b/4b/3363a1d04368e7ff0d408e57ff57966fcdf00583774e761327\n",
            "Successfully built pyspark\n",
            "Installing collected packages: pyspark\n",
            "Successfully installed pyspark-3.4.0\n",
            "Looking in indexes: https://pypi.org/simple, https://us-python.pkg.dev/colab-wheels/public/simple/\n",
            "Collecting findspark\n",
            "  Downloading findspark-2.0.1-py2.py3-none-any.whl (4.4 kB)\n",
            "Installing collected packages: findspark\n",
            "Successfully installed findspark-2.0.1\n",
            "Looking in indexes: https://pypi.org/simple, https://us-python.pkg.dev/colab-wheels/public/simple/\n",
            "Requirement already satisfied: pandas in /usr/local/lib/python3.10/dist-packages (1.5.3)\n",
            "Requirement already satisfied: python-dateutil>=2.8.1 in /usr/local/lib/python3.10/dist-packages (from pandas) (2.8.2)\n",
            "Requirement already satisfied: pytz>=2020.1 in /usr/local/lib/python3.10/dist-packages (from pandas) (2022.7.1)\n",
            "Requirement already satisfied: numpy>=1.21.0 in /usr/local/lib/python3.10/dist-packages (from pandas) (1.22.4)\n",
            "Requirement already satisfied: six>=1.5 in /usr/local/lib/python3.10/dist-packages (from python-dateutil>=2.8.1->pandas) (1.16.0)\n"
          ]
        }
      ],
      "source": [
        "!pip install pyspark\n",
        "!pip install findspark\n",
        "!pip install pandas"
      ]
    },
    {
      "cell_type": "code",
      "source": [
        "import findspark\n",
        "findspark.init()"
      ],
      "metadata": {
        "id": "CVoyoJmAbZ8B"
      },
      "execution_count": null,
      "outputs": []
    },
    {
      "cell_type": "code",
      "source": [
        "import pandas as pd\n",
        "from pyspark import SparkContext, SparkConf\n",
        "from pyspark.sql.functions import col\n",
        "from pyspark.sql import SparkSession"
      ],
      "metadata": {
        "id": "-1DSR7w2cmmG"
      },
      "execution_count": null,
      "outputs": []
    },
    {
      "cell_type": "code",
      "source": [
        "# Creating a spark session\n",
        "sc = SparkContext()\n",
        "\n",
        "spark = SparkSession \\\n",
        "    .builder \\\n",
        "    .appName(\"Python Spark DataFrames basic example\") \\\n",
        "    .config(\"spark.some.config.option\", \"some-value\") \\\n",
        "    .getOrCreate()"
      ],
      "metadata": {
        "id": "0-NJVKlct1oo"
      },
      "execution_count": null,
      "outputs": []
    },
    {
      "cell_type": "code",
      "source": [
        "spark"
      ],
      "metadata": {
        "colab": {
          "base_uri": "https://localhost:8080/",
          "height": 221
        },
        "id": "Ek_Lw7_yt5sz",
        "outputId": "9fc31359-d763-4bea-9e79-db01f27fc7bd"
      },
      "execution_count": null,
      "outputs": [
        {
          "output_type": "execute_result",
          "data": {
            "text/plain": [
              "<pyspark.sql.session.SparkSession at 0x7f1d3da077f0>"
            ],
            "text/html": [
              "\n",
              "            <div>\n",
              "                <p><b>SparkSession - in-memory</b></p>\n",
              "                \n",
              "        <div>\n",
              "            <p><b>SparkContext</b></p>\n",
              "\n",
              "            <p><a href=\"http://a0def42f192a:4040\">Spark UI</a></p>\n",
              "\n",
              "            <dl>\n",
              "              <dt>Version</dt>\n",
              "                <dd><code>v3.4.0</code></dd>\n",
              "              <dt>Master</dt>\n",
              "                <dd><code>local[*]</code></dd>\n",
              "              <dt>AppName</dt>\n",
              "                <dd><code>pyspark-shell</code></dd>\n",
              "            </dl>\n",
              "        </div>\n",
              "        \n",
              "            </div>\n",
              "        "
            ]
          },
          "metadata": {},
          "execution_count": 25
        }
      ]
    },
    {
      "cell_type": "markdown",
      "source": [
        "# Basic Data Statistics and Understanding"
      ],
      "metadata": {
        "id": "pj2i-UQQd1p3"
      }
    },
    {
      "cell_type": "markdown",
      "source": [
        "Here iam trying to understand the data using basic methods"
      ],
      "metadata": {
        "id": "Avzscbifg09B"
      }
    },
    {
      "cell_type": "code",
      "source": [
        "test_df = pd.read_csv('/content/music_streaming.csv')"
      ],
      "metadata": {
        "id": "ZF6JjnqHNq5Y"
      },
      "execution_count": null,
      "outputs": []
    },
    {
      "cell_type": "code",
      "source": [
        "df = pd.read_csv('/content/music_streaming.csv')\n",
        "df.head(5)"
      ],
      "metadata": {
        "colab": {
          "base_uri": "https://localhost:8080/",
          "height": 443
        },
        "id": "v1aewR06d0jm",
        "outputId": "e8eec2c4-d25b-4206-bed7-ac649dda0916"
      },
      "execution_count": null,
      "outputs": [
        {
          "output_type": "execute_result",
          "data": {
            "text/plain": [
              "             Artist Name                             Track Name  Popularity  \\\n",
              "0             Bruno Mars  That's What I Like (feat. Gucci Mane)        60.0   \n",
              "1                 Boston                           Hitch a Ride        54.0   \n",
              "2          The Raincoats                     No Side to Fall In        35.0   \n",
              "3                   Deno             Lingo (feat. J.I & Chunkz)        66.0   \n",
              "4  Red Hot Chili Peppers      Nobody Weird Like Me - Remastered        53.0   \n",
              "\n",
              "   danceability  energy   key  loudness  mode  speechiness  acousticness  \\\n",
              "0         0.854   0.564   1.0    -4.964     1       0.0485      0.017100   \n",
              "1         0.382   0.814   3.0    -7.230     1       0.0406      0.001100   \n",
              "2         0.434   0.614   6.0    -8.334     1       0.0525      0.486000   \n",
              "3         0.853   0.597  10.0    -6.528     0       0.0555      0.021200   \n",
              "4         0.167   0.975   2.0    -4.279     1       0.2160      0.000169   \n",
              "\n",
              "   instrumentalness  liveness  valence    tempo  duration_in min/ms  \\\n",
              "0               NaN    0.0849   0.8990  134.071            234596.0   \n",
              "1          0.004010    0.1010   0.5690  116.454            251733.0   \n",
              "2          0.000196    0.3940   0.7870  147.681            109667.0   \n",
              "3               NaN    0.1220   0.5690  107.033            173968.0   \n",
              "4          0.016100    0.1720   0.0918  199.060            229960.0   \n",
              "\n",
              "   time_signature  Genre  \n",
              "0               4      5  \n",
              "1               4     10  \n",
              "2               4      6  \n",
              "3               4      5  \n",
              "4               4     10  "
            ],
            "text/html": [
              "\n",
              "  <div id=\"df-7c2ac72a-3e3e-42eb-b3cf-966b4c0ebffe\">\n",
              "    <div class=\"colab-df-container\">\n",
              "      <div>\n",
              "<style scoped>\n",
              "    .dataframe tbody tr th:only-of-type {\n",
              "        vertical-align: middle;\n",
              "    }\n",
              "\n",
              "    .dataframe tbody tr th {\n",
              "        vertical-align: top;\n",
              "    }\n",
              "\n",
              "    .dataframe thead th {\n",
              "        text-align: right;\n",
              "    }\n",
              "</style>\n",
              "<table border=\"1\" class=\"dataframe\">\n",
              "  <thead>\n",
              "    <tr style=\"text-align: right;\">\n",
              "      <th></th>\n",
              "      <th>Artist Name</th>\n",
              "      <th>Track Name</th>\n",
              "      <th>Popularity</th>\n",
              "      <th>danceability</th>\n",
              "      <th>energy</th>\n",
              "      <th>key</th>\n",
              "      <th>loudness</th>\n",
              "      <th>mode</th>\n",
              "      <th>speechiness</th>\n",
              "      <th>acousticness</th>\n",
              "      <th>instrumentalness</th>\n",
              "      <th>liveness</th>\n",
              "      <th>valence</th>\n",
              "      <th>tempo</th>\n",
              "      <th>duration_in min/ms</th>\n",
              "      <th>time_signature</th>\n",
              "      <th>Genre</th>\n",
              "    </tr>\n",
              "  </thead>\n",
              "  <tbody>\n",
              "    <tr>\n",
              "      <th>0</th>\n",
              "      <td>Bruno Mars</td>\n",
              "      <td>That's What I Like (feat. Gucci Mane)</td>\n",
              "      <td>60.0</td>\n",
              "      <td>0.854</td>\n",
              "      <td>0.564</td>\n",
              "      <td>1.0</td>\n",
              "      <td>-4.964</td>\n",
              "      <td>1</td>\n",
              "      <td>0.0485</td>\n",
              "      <td>0.017100</td>\n",
              "      <td>NaN</td>\n",
              "      <td>0.0849</td>\n",
              "      <td>0.8990</td>\n",
              "      <td>134.071</td>\n",
              "      <td>234596.0</td>\n",
              "      <td>4</td>\n",
              "      <td>5</td>\n",
              "    </tr>\n",
              "    <tr>\n",
              "      <th>1</th>\n",
              "      <td>Boston</td>\n",
              "      <td>Hitch a Ride</td>\n",
              "      <td>54.0</td>\n",
              "      <td>0.382</td>\n",
              "      <td>0.814</td>\n",
              "      <td>3.0</td>\n",
              "      <td>-7.230</td>\n",
              "      <td>1</td>\n",
              "      <td>0.0406</td>\n",
              "      <td>0.001100</td>\n",
              "      <td>0.004010</td>\n",
              "      <td>0.1010</td>\n",
              "      <td>0.5690</td>\n",
              "      <td>116.454</td>\n",
              "      <td>251733.0</td>\n",
              "      <td>4</td>\n",
              "      <td>10</td>\n",
              "    </tr>\n",
              "    <tr>\n",
              "      <th>2</th>\n",
              "      <td>The Raincoats</td>\n",
              "      <td>No Side to Fall In</td>\n",
              "      <td>35.0</td>\n",
              "      <td>0.434</td>\n",
              "      <td>0.614</td>\n",
              "      <td>6.0</td>\n",
              "      <td>-8.334</td>\n",
              "      <td>1</td>\n",
              "      <td>0.0525</td>\n",
              "      <td>0.486000</td>\n",
              "      <td>0.000196</td>\n",
              "      <td>0.3940</td>\n",
              "      <td>0.7870</td>\n",
              "      <td>147.681</td>\n",
              "      <td>109667.0</td>\n",
              "      <td>4</td>\n",
              "      <td>6</td>\n",
              "    </tr>\n",
              "    <tr>\n",
              "      <th>3</th>\n",
              "      <td>Deno</td>\n",
              "      <td>Lingo (feat. J.I &amp; Chunkz)</td>\n",
              "      <td>66.0</td>\n",
              "      <td>0.853</td>\n",
              "      <td>0.597</td>\n",
              "      <td>10.0</td>\n",
              "      <td>-6.528</td>\n",
              "      <td>0</td>\n",
              "      <td>0.0555</td>\n",
              "      <td>0.021200</td>\n",
              "      <td>NaN</td>\n",
              "      <td>0.1220</td>\n",
              "      <td>0.5690</td>\n",
              "      <td>107.033</td>\n",
              "      <td>173968.0</td>\n",
              "      <td>4</td>\n",
              "      <td>5</td>\n",
              "    </tr>\n",
              "    <tr>\n",
              "      <th>4</th>\n",
              "      <td>Red Hot Chili Peppers</td>\n",
              "      <td>Nobody Weird Like Me - Remastered</td>\n",
              "      <td>53.0</td>\n",
              "      <td>0.167</td>\n",
              "      <td>0.975</td>\n",
              "      <td>2.0</td>\n",
              "      <td>-4.279</td>\n",
              "      <td>1</td>\n",
              "      <td>0.2160</td>\n",
              "      <td>0.000169</td>\n",
              "      <td>0.016100</td>\n",
              "      <td>0.1720</td>\n",
              "      <td>0.0918</td>\n",
              "      <td>199.060</td>\n",
              "      <td>229960.0</td>\n",
              "      <td>4</td>\n",
              "      <td>10</td>\n",
              "    </tr>\n",
              "  </tbody>\n",
              "</table>\n",
              "</div>\n",
              "      <button class=\"colab-df-convert\" onclick=\"convertToInteractive('df-7c2ac72a-3e3e-42eb-b3cf-966b4c0ebffe')\"\n",
              "              title=\"Convert this dataframe to an interactive table.\"\n",
              "              style=\"display:none;\">\n",
              "        \n",
              "  <svg xmlns=\"http://www.w3.org/2000/svg\" height=\"24px\"viewBox=\"0 0 24 24\"\n",
              "       width=\"24px\">\n",
              "    <path d=\"M0 0h24v24H0V0z\" fill=\"none\"/>\n",
              "    <path d=\"M18.56 5.44l.94 2.06.94-2.06 2.06-.94-2.06-.94-.94-2.06-.94 2.06-2.06.94zm-11 1L8.5 8.5l.94-2.06 2.06-.94-2.06-.94L8.5 2.5l-.94 2.06-2.06.94zm10 10l.94 2.06.94-2.06 2.06-.94-2.06-.94-.94-2.06-.94 2.06-2.06.94z\"/><path d=\"M17.41 7.96l-1.37-1.37c-.4-.4-.92-.59-1.43-.59-.52 0-1.04.2-1.43.59L10.3 9.45l-7.72 7.72c-.78.78-.78 2.05 0 2.83L4 21.41c.39.39.9.59 1.41.59.51 0 1.02-.2 1.41-.59l7.78-7.78 2.81-2.81c.8-.78.8-2.07 0-2.86zM5.41 20L4 18.59l7.72-7.72 1.47 1.35L5.41 20z\"/>\n",
              "  </svg>\n",
              "      </button>\n",
              "      \n",
              "  <style>\n",
              "    .colab-df-container {\n",
              "      display:flex;\n",
              "      flex-wrap:wrap;\n",
              "      gap: 12px;\n",
              "    }\n",
              "\n",
              "    .colab-df-convert {\n",
              "      background-color: #E8F0FE;\n",
              "      border: none;\n",
              "      border-radius: 50%;\n",
              "      cursor: pointer;\n",
              "      display: none;\n",
              "      fill: #1967D2;\n",
              "      height: 32px;\n",
              "      padding: 0 0 0 0;\n",
              "      width: 32px;\n",
              "    }\n",
              "\n",
              "    .colab-df-convert:hover {\n",
              "      background-color: #E2EBFA;\n",
              "      box-shadow: 0px 1px 2px rgba(60, 64, 67, 0.3), 0px 1px 3px 1px rgba(60, 64, 67, 0.15);\n",
              "      fill: #174EA6;\n",
              "    }\n",
              "\n",
              "    [theme=dark] .colab-df-convert {\n",
              "      background-color: #3B4455;\n",
              "      fill: #D2E3FC;\n",
              "    }\n",
              "\n",
              "    [theme=dark] .colab-df-convert:hover {\n",
              "      background-color: #434B5C;\n",
              "      box-shadow: 0px 1px 3px 1px rgba(0, 0, 0, 0.15);\n",
              "      filter: drop-shadow(0px 1px 2px rgba(0, 0, 0, 0.3));\n",
              "      fill: #FFFFFF;\n",
              "    }\n",
              "  </style>\n",
              "\n",
              "      <script>\n",
              "        const buttonEl =\n",
              "          document.querySelector('#df-7c2ac72a-3e3e-42eb-b3cf-966b4c0ebffe button.colab-df-convert');\n",
              "        buttonEl.style.display =\n",
              "          google.colab.kernel.accessAllowed ? 'block' : 'none';\n",
              "\n",
              "        async function convertToInteractive(key) {\n",
              "          const element = document.querySelector('#df-7c2ac72a-3e3e-42eb-b3cf-966b4c0ebffe');\n",
              "          const dataTable =\n",
              "            await google.colab.kernel.invokeFunction('convertToInteractive',\n",
              "                                                     [key], {});\n",
              "          if (!dataTable) return;\n",
              "\n",
              "          const docLinkHtml = 'Like what you see? Visit the ' +\n",
              "            '<a target=\"_blank\" href=https://colab.research.google.com/notebooks/data_table.ipynb>data table notebook</a>'\n",
              "            + ' to learn more about interactive tables.';\n",
              "          element.innerHTML = '';\n",
              "          dataTable['output_type'] = 'display_data';\n",
              "          await google.colab.output.renderOutput(dataTable, element);\n",
              "          const docLink = document.createElement('div');\n",
              "          docLink.innerHTML = docLinkHtml;\n",
              "          element.appendChild(docLink);\n",
              "        }\n",
              "      </script>\n",
              "    </div>\n",
              "  </div>\n",
              "  "
            ]
          },
          "metadata": {},
          "execution_count": 43
        }
      ]
    },
    {
      "cell_type": "code",
      "source": [
        "test_df.shape"
      ],
      "metadata": {
        "colab": {
          "base_uri": "https://localhost:8080/"
        },
        "id": "5n3TAcXgd0rM",
        "outputId": "e5b3972c-94ca-4ff7-9e4f-59b614411288"
      },
      "execution_count": null,
      "outputs": [
        {
          "output_type": "execute_result",
          "data": {
            "text/plain": [
              "(15517, 17)"
            ]
          },
          "metadata": {},
          "execution_count": 105
        }
      ]
    },
    {
      "cell_type": "code",
      "source": [
        "test_df.columns"
      ],
      "metadata": {
        "colab": {
          "base_uri": "https://localhost:8080/"
        },
        "id": "85-KlW86d0l9",
        "outputId": "fe7c16c2-9881-4163-ea27-74f23a2b6e57"
      },
      "execution_count": null,
      "outputs": [
        {
          "output_type": "execute_result",
          "data": {
            "text/plain": [
              "Index(['Artist Name', 'Track Name', 'Popularity', 'danceability', 'energy',\n",
              "       'key', 'loudness', 'mode', 'speechiness', 'acousticness',\n",
              "       'instrumentalness', 'liveness', 'valence', 'tempo',\n",
              "       'duration_in min/ms', 'time_signature', 'Genre'],\n",
              "      dtype='object')"
            ]
          },
          "metadata": {},
          "execution_count": 106
        }
      ]
    },
    {
      "cell_type": "code",
      "source": [
        "test_df.describe()"
      ],
      "metadata": {
        "colab": {
          "base_uri": "https://localhost:8080/",
          "height": 381
        },
        "id": "eEgmIoJfd0uV",
        "outputId": "3d13804c-0313-40b5-f747-8c3b33e76215"
      },
      "execution_count": null,
      "outputs": [
        {
          "output_type": "execute_result",
          "data": {
            "text/plain": [
              "         Popularity  danceability        energy           key      loudness  \\\n",
              "count  15123.000000  15517.000000  15517.000000  13774.000000  15517.000000   \n",
              "mean      45.582358      0.541469      0.668711      5.964281     -7.856428   \n",
              "std       17.400843      0.166838      0.235402      3.196333      4.018688   \n",
              "min        1.000000      0.059600      0.001210      1.000000    -39.952000   \n",
              "25%       34.000000      0.430000      0.517000      3.000000     -9.483000   \n",
              "50%       45.000000      0.543000      0.708000      6.000000     -6.971000   \n",
              "75%       57.000000      0.656000      0.866000      9.000000     -5.150000   \n",
              "max      100.000000      0.989000      1.000000     11.000000      1.355000   \n",
              "\n",
              "               mode   speechiness  acousticness  instrumentalness  \\\n",
              "count  15517.000000  15517.000000  15517.000000      11930.000000   \n",
              "mean       0.652639      0.080936      0.238502          0.177348   \n",
              "std        0.476147      0.084977      0.309605          0.302935   \n",
              "min        0.000000      0.022500      0.000000          0.000001   \n",
              "25%        0.000000      0.035100      0.003380          0.000097   \n",
              "50%        1.000000      0.048300      0.068100          0.004215   \n",
              "75%        1.000000      0.084800      0.410000          0.203000   \n",
              "max        1.000000      0.955000      0.996000          0.996000   \n",
              "\n",
              "           liveness       valence         tempo  duration_in min/ms  \\\n",
              "count  15517.000000  15517.000000  15517.000000        1.551700e+04   \n",
              "mean       0.196837      0.487344    122.833548        1.992960e+05   \n",
              "std        0.160212      0.240228     29.686429        1.148326e+05   \n",
              "min        0.011900      0.021500     30.557000        5.016500e-01   \n",
              "25%        0.097400      0.298000     99.729000        1.632400e+05   \n",
              "50%        0.129000      0.484000    120.065000        2.084270e+05   \n",
              "75%        0.260000      0.674000    142.378000        2.522530e+05   \n",
              "max        1.000000      0.986000    217.416000        1.477187e+06   \n",
              "\n",
              "       time_signature         Genre  \n",
              "count    15517.000000  15517.000000  \n",
              "mean         3.925114      6.564155  \n",
              "std          0.360904      3.258829  \n",
              "min          1.000000      0.000000  \n",
              "25%          4.000000      5.000000  \n",
              "50%          4.000000      8.000000  \n",
              "75%          4.000000     10.000000  \n",
              "max          5.000000     10.000000  "
            ],
            "text/html": [
              "\n",
              "  <div id=\"df-7b3fdad9-1913-457d-963c-b368405b7411\">\n",
              "    <div class=\"colab-df-container\">\n",
              "      <div>\n",
              "<style scoped>\n",
              "    .dataframe tbody tr th:only-of-type {\n",
              "        vertical-align: middle;\n",
              "    }\n",
              "\n",
              "    .dataframe tbody tr th {\n",
              "        vertical-align: top;\n",
              "    }\n",
              "\n",
              "    .dataframe thead th {\n",
              "        text-align: right;\n",
              "    }\n",
              "</style>\n",
              "<table border=\"1\" class=\"dataframe\">\n",
              "  <thead>\n",
              "    <tr style=\"text-align: right;\">\n",
              "      <th></th>\n",
              "      <th>Popularity</th>\n",
              "      <th>danceability</th>\n",
              "      <th>energy</th>\n",
              "      <th>key</th>\n",
              "      <th>loudness</th>\n",
              "      <th>mode</th>\n",
              "      <th>speechiness</th>\n",
              "      <th>acousticness</th>\n",
              "      <th>instrumentalness</th>\n",
              "      <th>liveness</th>\n",
              "      <th>valence</th>\n",
              "      <th>tempo</th>\n",
              "      <th>duration_in min/ms</th>\n",
              "      <th>time_signature</th>\n",
              "      <th>Genre</th>\n",
              "    </tr>\n",
              "  </thead>\n",
              "  <tbody>\n",
              "    <tr>\n",
              "      <th>count</th>\n",
              "      <td>15123.000000</td>\n",
              "      <td>15517.000000</td>\n",
              "      <td>15517.000000</td>\n",
              "      <td>13774.000000</td>\n",
              "      <td>15517.000000</td>\n",
              "      <td>15517.000000</td>\n",
              "      <td>15517.000000</td>\n",
              "      <td>15517.000000</td>\n",
              "      <td>11930.000000</td>\n",
              "      <td>15517.000000</td>\n",
              "      <td>15517.000000</td>\n",
              "      <td>15517.000000</td>\n",
              "      <td>1.551700e+04</td>\n",
              "      <td>15517.000000</td>\n",
              "      <td>15517.000000</td>\n",
              "    </tr>\n",
              "    <tr>\n",
              "      <th>mean</th>\n",
              "      <td>45.582358</td>\n",
              "      <td>0.541469</td>\n",
              "      <td>0.668711</td>\n",
              "      <td>5.964281</td>\n",
              "      <td>-7.856428</td>\n",
              "      <td>0.652639</td>\n",
              "      <td>0.080936</td>\n",
              "      <td>0.238502</td>\n",
              "      <td>0.177348</td>\n",
              "      <td>0.196837</td>\n",
              "      <td>0.487344</td>\n",
              "      <td>122.833548</td>\n",
              "      <td>1.992960e+05</td>\n",
              "      <td>3.925114</td>\n",
              "      <td>6.564155</td>\n",
              "    </tr>\n",
              "    <tr>\n",
              "      <th>std</th>\n",
              "      <td>17.400843</td>\n",
              "      <td>0.166838</td>\n",
              "      <td>0.235402</td>\n",
              "      <td>3.196333</td>\n",
              "      <td>4.018688</td>\n",
              "      <td>0.476147</td>\n",
              "      <td>0.084977</td>\n",
              "      <td>0.309605</td>\n",
              "      <td>0.302935</td>\n",
              "      <td>0.160212</td>\n",
              "      <td>0.240228</td>\n",
              "      <td>29.686429</td>\n",
              "      <td>1.148326e+05</td>\n",
              "      <td>0.360904</td>\n",
              "      <td>3.258829</td>\n",
              "    </tr>\n",
              "    <tr>\n",
              "      <th>min</th>\n",
              "      <td>1.000000</td>\n",
              "      <td>0.059600</td>\n",
              "      <td>0.001210</td>\n",
              "      <td>1.000000</td>\n",
              "      <td>-39.952000</td>\n",
              "      <td>0.000000</td>\n",
              "      <td>0.022500</td>\n",
              "      <td>0.000000</td>\n",
              "      <td>0.000001</td>\n",
              "      <td>0.011900</td>\n",
              "      <td>0.021500</td>\n",
              "      <td>30.557000</td>\n",
              "      <td>5.016500e-01</td>\n",
              "      <td>1.000000</td>\n",
              "      <td>0.000000</td>\n",
              "    </tr>\n",
              "    <tr>\n",
              "      <th>25%</th>\n",
              "      <td>34.000000</td>\n",
              "      <td>0.430000</td>\n",
              "      <td>0.517000</td>\n",
              "      <td>3.000000</td>\n",
              "      <td>-9.483000</td>\n",
              "      <td>0.000000</td>\n",
              "      <td>0.035100</td>\n",
              "      <td>0.003380</td>\n",
              "      <td>0.000097</td>\n",
              "      <td>0.097400</td>\n",
              "      <td>0.298000</td>\n",
              "      <td>99.729000</td>\n",
              "      <td>1.632400e+05</td>\n",
              "      <td>4.000000</td>\n",
              "      <td>5.000000</td>\n",
              "    </tr>\n",
              "    <tr>\n",
              "      <th>50%</th>\n",
              "      <td>45.000000</td>\n",
              "      <td>0.543000</td>\n",
              "      <td>0.708000</td>\n",
              "      <td>6.000000</td>\n",
              "      <td>-6.971000</td>\n",
              "      <td>1.000000</td>\n",
              "      <td>0.048300</td>\n",
              "      <td>0.068100</td>\n",
              "      <td>0.004215</td>\n",
              "      <td>0.129000</td>\n",
              "      <td>0.484000</td>\n",
              "      <td>120.065000</td>\n",
              "      <td>2.084270e+05</td>\n",
              "      <td>4.000000</td>\n",
              "      <td>8.000000</td>\n",
              "    </tr>\n",
              "    <tr>\n",
              "      <th>75%</th>\n",
              "      <td>57.000000</td>\n",
              "      <td>0.656000</td>\n",
              "      <td>0.866000</td>\n",
              "      <td>9.000000</td>\n",
              "      <td>-5.150000</td>\n",
              "      <td>1.000000</td>\n",
              "      <td>0.084800</td>\n",
              "      <td>0.410000</td>\n",
              "      <td>0.203000</td>\n",
              "      <td>0.260000</td>\n",
              "      <td>0.674000</td>\n",
              "      <td>142.378000</td>\n",
              "      <td>2.522530e+05</td>\n",
              "      <td>4.000000</td>\n",
              "      <td>10.000000</td>\n",
              "    </tr>\n",
              "    <tr>\n",
              "      <th>max</th>\n",
              "      <td>100.000000</td>\n",
              "      <td>0.989000</td>\n",
              "      <td>1.000000</td>\n",
              "      <td>11.000000</td>\n",
              "      <td>1.355000</td>\n",
              "      <td>1.000000</td>\n",
              "      <td>0.955000</td>\n",
              "      <td>0.996000</td>\n",
              "      <td>0.996000</td>\n",
              "      <td>1.000000</td>\n",
              "      <td>0.986000</td>\n",
              "      <td>217.416000</td>\n",
              "      <td>1.477187e+06</td>\n",
              "      <td>5.000000</td>\n",
              "      <td>10.000000</td>\n",
              "    </tr>\n",
              "  </tbody>\n",
              "</table>\n",
              "</div>\n",
              "      <button class=\"colab-df-convert\" onclick=\"convertToInteractive('df-7b3fdad9-1913-457d-963c-b368405b7411')\"\n",
              "              title=\"Convert this dataframe to an interactive table.\"\n",
              "              style=\"display:none;\">\n",
              "        \n",
              "  <svg xmlns=\"http://www.w3.org/2000/svg\" height=\"24px\"viewBox=\"0 0 24 24\"\n",
              "       width=\"24px\">\n",
              "    <path d=\"M0 0h24v24H0V0z\" fill=\"none\"/>\n",
              "    <path d=\"M18.56 5.44l.94 2.06.94-2.06 2.06-.94-2.06-.94-.94-2.06-.94 2.06-2.06.94zm-11 1L8.5 8.5l.94-2.06 2.06-.94-2.06-.94L8.5 2.5l-.94 2.06-2.06.94zm10 10l.94 2.06.94-2.06 2.06-.94-2.06-.94-.94-2.06-.94 2.06-2.06.94z\"/><path d=\"M17.41 7.96l-1.37-1.37c-.4-.4-.92-.59-1.43-.59-.52 0-1.04.2-1.43.59L10.3 9.45l-7.72 7.72c-.78.78-.78 2.05 0 2.83L4 21.41c.39.39.9.59 1.41.59.51 0 1.02-.2 1.41-.59l7.78-7.78 2.81-2.81c.8-.78.8-2.07 0-2.86zM5.41 20L4 18.59l7.72-7.72 1.47 1.35L5.41 20z\"/>\n",
              "  </svg>\n",
              "      </button>\n",
              "      \n",
              "  <style>\n",
              "    .colab-df-container {\n",
              "      display:flex;\n",
              "      flex-wrap:wrap;\n",
              "      gap: 12px;\n",
              "    }\n",
              "\n",
              "    .colab-df-convert {\n",
              "      background-color: #E8F0FE;\n",
              "      border: none;\n",
              "      border-radius: 50%;\n",
              "      cursor: pointer;\n",
              "      display: none;\n",
              "      fill: #1967D2;\n",
              "      height: 32px;\n",
              "      padding: 0 0 0 0;\n",
              "      width: 32px;\n",
              "    }\n",
              "\n",
              "    .colab-df-convert:hover {\n",
              "      background-color: #E2EBFA;\n",
              "      box-shadow: 0px 1px 2px rgba(60, 64, 67, 0.3), 0px 1px 3px 1px rgba(60, 64, 67, 0.15);\n",
              "      fill: #174EA6;\n",
              "    }\n",
              "\n",
              "    [theme=dark] .colab-df-convert {\n",
              "      background-color: #3B4455;\n",
              "      fill: #D2E3FC;\n",
              "    }\n",
              "\n",
              "    [theme=dark] .colab-df-convert:hover {\n",
              "      background-color: #434B5C;\n",
              "      box-shadow: 0px 1px 3px 1px rgba(0, 0, 0, 0.15);\n",
              "      filter: drop-shadow(0px 1px 2px rgba(0, 0, 0, 0.3));\n",
              "      fill: #FFFFFF;\n",
              "    }\n",
              "  </style>\n",
              "\n",
              "      <script>\n",
              "        const buttonEl =\n",
              "          document.querySelector('#df-7b3fdad9-1913-457d-963c-b368405b7411 button.colab-df-convert');\n",
              "        buttonEl.style.display =\n",
              "          google.colab.kernel.accessAllowed ? 'block' : 'none';\n",
              "\n",
              "        async function convertToInteractive(key) {\n",
              "          const element = document.querySelector('#df-7b3fdad9-1913-457d-963c-b368405b7411');\n",
              "          const dataTable =\n",
              "            await google.colab.kernel.invokeFunction('convertToInteractive',\n",
              "                                                     [key], {});\n",
              "          if (!dataTable) return;\n",
              "\n",
              "          const docLinkHtml = 'Like what you see? Visit the ' +\n",
              "            '<a target=\"_blank\" href=https://colab.research.google.com/notebooks/data_table.ipynb>data table notebook</a>'\n",
              "            + ' to learn more about interactive tables.';\n",
              "          element.innerHTML = '';\n",
              "          dataTable['output_type'] = 'display_data';\n",
              "          await google.colab.output.renderOutput(dataTable, element);\n",
              "          const docLink = document.createElement('div');\n",
              "          docLink.innerHTML = docLinkHtml;\n",
              "          element.appendChild(docLink);\n",
              "        }\n",
              "      </script>\n",
              "    </div>\n",
              "  </div>\n",
              "  "
            ]
          },
          "metadata": {},
          "execution_count": 107
        }
      ]
    },
    {
      "cell_type": "code",
      "source": [
        "# showing the correlation between different variables\n",
        "import seaborn as sns\n",
        "import matplotlib.pyplot as plt\n",
        "\n",
        "corrmap = test_df.corr()\n",
        "\n",
        "plt.figure(figsize=(14, 10))\n",
        "sns.heatmap(corrmap, annot=True, cmap='coolwarm')\n",
        "plt.title('Correlation Map')\n",
        "plt.show()\n"
      ],
      "metadata": {
        "colab": {
          "base_uri": "https://localhost:8080/",
          "height": 892
        },
        "id": "D9dcQwwqd0ok",
        "outputId": "a6f5226b-a930-456d-cf25-6ecd906227cc"
      },
      "execution_count": null,
      "outputs": [
        {
          "output_type": "stream",
          "name": "stderr",
          "text": [
            "<ipython-input-108-a4e31a21f8e0>:4: FutureWarning: The default value of numeric_only in DataFrame.corr is deprecated. In a future version, it will default to False. Select only valid columns or specify the value of numeric_only to silence this warning.\n",
            "  corrmap = test_df.corr()\n"
          ]
        },
        {
          "output_type": "display_data",
          "data": {
            "text/plain": [
              "<Figure size 1400x1000 with 2 Axes>"
            ],
            "image/png": "[encoded data removed]"
          },
          "metadata": {}
        }
      ]
    },
    {
      "cell_type": "code",
      "source": [
        "###########################################################"
      ],
      "metadata": {
        "id": "5JrwcUxef-XG"
      },
      "execution_count": null,
      "outputs": []
    },
    {
      "cell_type": "markdown",
      "source": [
        "# Data Cleaning and Preprocessing\n"
      ],
      "metadata": {
        "id": "juWHYgeydkBa"
      }
    },
    {
      "cell_type": "markdown",
      "source": [
        "Here i will perform some Data Cleainng and Preprocessing"
      ],
      "metadata": {
        "id": "PcTMkS9mdsWP"
      }
    },
    {
      "cell_type": "code",
      "source": [
        "test_df.head()"
      ],
      "metadata": {
        "colab": {
          "base_uri": "https://localhost:8080/",
          "height": 443
        },
        "id": "lviG4L-JipTS",
        "outputId": "926e28b6-f937-4116-bdff-19ce375fe9d7"
      },
      "execution_count": null,
      "outputs": [
        {
          "output_type": "execute_result",
          "data": {
            "text/plain": [
              "             Artist Name                             Track Name  Popularity  \\\n",
              "0             Bruno Mars  That's What I Like (feat. Gucci Mane)        60.0   \n",
              "1                 Boston                           Hitch a Ride        54.0   \n",
              "2          The Raincoats                     No Side to Fall In        35.0   \n",
              "3                   Deno             Lingo (feat. J.I & Chunkz)        66.0   \n",
              "4  Red Hot Chili Peppers      Nobody Weird Like Me - Remastered        53.0   \n",
              "\n",
              "   danceability  energy   key  loudness  mode  speechiness  acousticness  \\\n",
              "0         0.854   0.564   1.0    -4.964     1       0.0485      0.017100   \n",
              "1         0.382   0.814   3.0    -7.230     1       0.0406      0.001100   \n",
              "2         0.434   0.614   6.0    -8.334     1       0.0525      0.486000   \n",
              "3         0.853   0.597  10.0    -6.528     0       0.0555      0.021200   \n",
              "4         0.167   0.975   2.0    -4.279     1       0.2160      0.000169   \n",
              "\n",
              "   instrumentalness  liveness  valence    tempo  duration_in min/ms  \\\n",
              "0               NaN    0.0849   0.8990  134.071            234596.0   \n",
              "1          0.004010    0.1010   0.5690  116.454            251733.0   \n",
              "2          0.000196    0.3940   0.7870  147.681            109667.0   \n",
              "3               NaN    0.1220   0.5690  107.033            173968.0   \n",
              "4          0.016100    0.1720   0.0918  199.060            229960.0   \n",
              "\n",
              "   time_signature  Genre  \n",
              "0               4      5  \n",
              "1               4     10  \n",
              "2               4      6  \n",
              "3               4      5  \n",
              "4               4     10  "
            ],
            "text/html": [
              "\n",
              "  <div id=\"df-945f1cd0-91fc-4469-ae63-2191481551b1\">\n",
              "    <div class=\"colab-df-container\">\n",
              "      <div>\n",
              "<style scoped>\n",
              "    .dataframe tbody tr th:only-of-type {\n",
              "        vertical-align: middle;\n",
              "    }\n",
              "\n",
              "    .dataframe tbody tr th {\n",
              "        vertical-align: top;\n",
              "    }\n",
              "\n",
              "    .dataframe thead th {\n",
              "        text-align: right;\n",
              "    }\n",
              "</style>\n",
              "<table border=\"1\" class=\"dataframe\">\n",
              "  <thead>\n",
              "    <tr style=\"text-align: right;\">\n",
              "      <th></th>\n",
              "      <th>Artist Name</th>\n",
              "      <th>Track Name</th>\n",
              "      <th>Popularity</th>\n",
              "      <th>danceability</th>\n",
              "      <th>energy</th>\n",
              "      <th>key</th>\n",
              "      <th>loudness</th>\n",
              "      <th>mode</th>\n",
              "      <th>speechiness</th>\n",
              "      <th>acousticness</th>\n",
              "      <th>instrumentalness</th>\n",
              "      <th>liveness</th>\n",
              "      <th>valence</th>\n",
              "      <th>tempo</th>\n",
              "      <th>duration_in min/ms</th>\n",
              "      <th>time_signature</th>\n",
              "      <th>Genre</th>\n",
              "    </tr>\n",
              "  </thead>\n",
              "  <tbody>\n",
              "    <tr>\n",
              "      <th>0</th>\n",
              "      <td>Bruno Mars</td>\n",
              "      <td>That's What I Like (feat. Gucci Mane)</td>\n",
              "      <td>60.0</td>\n",
              "      <td>0.854</td>\n",
              "      <td>0.564</td>\n",
              "      <td>1.0</td>\n",
              "      <td>-4.964</td>\n",
              "      <td>1</td>\n",
              "      <td>0.0485</td>\n",
              "      <td>0.017100</td>\n",
              "      <td>NaN</td>\n",
              "      <td>0.0849</td>\n",
              "      <td>0.8990</td>\n",
              "      <td>134.071</td>\n",
              "      <td>234596.0</td>\n",
              "      <td>4</td>\n",
              "      <td>5</td>\n",
              "    </tr>\n",
              "    <tr>\n",
              "      <th>1</th>\n",
              "      <td>Boston</td>\n",
              "      <td>Hitch a Ride</td>\n",
              "      <td>54.0</td>\n",
              "      <td>0.382</td>\n",
              "      <td>0.814</td>\n",
              "      <td>3.0</td>\n",
              "      <td>-7.230</td>\n",
              "      <td>1</td>\n",
              "      <td>0.0406</td>\n",
              "      <td>0.001100</td>\n",
              "      <td>0.004010</td>\n",
              "      <td>0.1010</td>\n",
              "      <td>0.5690</td>\n",
              "      <td>116.454</td>\n",
              "      <td>251733.0</td>\n",
              "      <td>4</td>\n",
              "      <td>10</td>\n",
              "    </tr>\n",
              "    <tr>\n",
              "      <th>2</th>\n",
              "      <td>The Raincoats</td>\n",
              "      <td>No Side to Fall In</td>\n",
              "      <td>35.0</td>\n",
              "      <td>0.434</td>\n",
              "      <td>0.614</td>\n",
              "      <td>6.0</td>\n",
              "      <td>-8.334</td>\n",
              "      <td>1</td>\n",
              "      <td>0.0525</td>\n",
              "      <td>0.486000</td>\n",
              "      <td>0.000196</td>\n",
              "      <td>0.3940</td>\n",
              "      <td>0.7870</td>\n",
              "      <td>147.681</td>\n",
              "      <td>109667.0</td>\n",
              "      <td>4</td>\n",
              "      <td>6</td>\n",
              "    </tr>\n",
              "    <tr>\n",
              "      <th>3</th>\n",
              "      <td>Deno</td>\n",
              "      <td>Lingo (feat. J.I &amp; Chunkz)</td>\n",
              "      <td>66.0</td>\n",
              "      <td>0.853</td>\n",
              "      <td>0.597</td>\n",
              "      <td>10.0</td>\n",
              "      <td>-6.528</td>\n",
              "      <td>0</td>\n",
              "      <td>0.0555</td>\n",
              "      <td>0.021200</td>\n",
              "      <td>NaN</td>\n",
              "      <td>0.1220</td>\n",
              "      <td>0.5690</td>\n",
              "      <td>107.033</td>\n",
              "      <td>173968.0</td>\n",
              "      <td>4</td>\n",
              "      <td>5</td>\n",
              "    </tr>\n",
              "    <tr>\n",
              "      <th>4</th>\n",
              "      <td>Red Hot Chili Peppers</td>\n",
              "      <td>Nobody Weird Like Me - Remastered</td>\n",
              "      <td>53.0</td>\n",
              "      <td>0.167</td>\n",
              "      <td>0.975</td>\n",
              "      <td>2.0</td>\n",
              "      <td>-4.279</td>\n",
              "      <td>1</td>\n",
              "      <td>0.2160</td>\n",
              "      <td>0.000169</td>\n",
              "      <td>0.016100</td>\n",
              "      <td>0.1720</td>\n",
              "      <td>0.0918</td>\n",
              "      <td>199.060</td>\n",
              "      <td>229960.0</td>\n",
              "      <td>4</td>\n",
              "      <td>10</td>\n",
              "    </tr>\n",
              "  </tbody>\n",
              "</table>\n",
              "</div>\n",
              "      <button class=\"colab-df-convert\" onclick=\"convertToInteractive('df-945f1cd0-91fc-4469-ae63-2191481551b1')\"\n",
              "              title=\"Convert this dataframe to an interactive table.\"\n",
              "              style=\"display:none;\">\n",
              "        \n",
              "  <svg xmlns=\"http://www.w3.org/2000/svg\" height=\"24px\"viewBox=\"0 0 24 24\"\n",
              "       width=\"24px\">\n",
              "    <path d=\"M0 0h24v24H0V0z\" fill=\"none\"/>\n",
              "    <path d=\"M18.56 5.44l.94 2.06.94-2.06 2.06-.94-2.06-.94-.94-2.06-.94 2.06-2.06.94zm-11 1L8.5 8.5l.94-2.06 2.06-.94-2.06-.94L8.5 2.5l-.94 2.06-2.06.94zm10 10l.94 2.06.94-2.06 2.06-.94-2.06-.94-.94-2.06-.94 2.06-2.06.94z\"/><path d=\"M17.41 7.96l-1.37-1.37c-.4-.4-.92-.59-1.43-.59-.52 0-1.04.2-1.43.59L10.3 9.45l-7.72 7.72c-.78.78-.78 2.05 0 2.83L4 21.41c.39.39.9.59 1.41.59.51 0 1.02-.2 1.41-.59l7.78-7.78 2.81-2.81c.8-.78.8-2.07 0-2.86zM5.41 20L4 18.59l7.72-7.72 1.47 1.35L5.41 20z\"/>\n",
              "  </svg>\n",
              "      </button>\n",
              "      \n",
              "  <style>\n",
              "    .colab-df-container {\n",
              "      display:flex;\n",
              "      flex-wrap:wrap;\n",
              "      gap: 12px;\n",
              "    }\n",
              "\n",
              "    .colab-df-convert {\n",
              "      background-color: #E8F0FE;\n",
              "      border: none;\n",
              "      border-radius: 50%;\n",
              "      cursor: pointer;\n",
              "      display: none;\n",
              "      fill: #1967D2;\n",
              "      height: 32px;\n",
              "      padding: 0 0 0 0;\n",
              "      width: 32px;\n",
              "    }\n",
              "\n",
              "    .colab-df-convert:hover {\n",
              "      background-color: #E2EBFA;\n",
              "      box-shadow: 0px 1px 2px rgba(60, 64, 67, 0.3), 0px 1px 3px 1px rgba(60, 64, 67, 0.15);\n",
              "      fill: #174EA6;\n",
              "    }\n",
              "\n",
              "    [theme=dark] .colab-df-convert {\n",
              "      background-color: #3B4455;\n",
              "      fill: #D2E3FC;\n",
              "    }\n",
              "\n",
              "    [theme=dark] .colab-df-convert:hover {\n",
              "      background-color: #434B5C;\n",
              "      box-shadow: 0px 1px 3px 1px rgba(0, 0, 0, 0.15);\n",
              "      filter: drop-shadow(0px 1px 2px rgba(0, 0, 0, 0.3));\n",
              "      fill: #FFFFFF;\n",
              "    }\n",
              "  </style>\n",
              "\n",
              "      <script>\n",
              "        const buttonEl =\n",
              "          document.querySelector('#df-945f1cd0-91fc-4469-ae63-2191481551b1 button.colab-df-convert');\n",
              "        buttonEl.style.display =\n",
              "          google.colab.kernel.accessAllowed ? 'block' : 'none';\n",
              "\n",
              "        async function convertToInteractive(key) {\n",
              "          const element = document.querySelector('#df-945f1cd0-91fc-4469-ae63-2191481551b1');\n",
              "          const dataTable =\n",
              "            await google.colab.kernel.invokeFunction('convertToInteractive',\n",
              "                                                     [key], {});\n",
              "          if (!dataTable) return;\n",
              "\n",
              "          const docLinkHtml = 'Like what you see? Visit the ' +\n",
              "            '<a target=\"_blank\" href=https://colab.research.google.com/notebooks/data_table.ipynb>data table notebook</a>'\n",
              "            + ' to learn more about interactive tables.';\n",
              "          element.innerHTML = '';\n",
              "          dataTable['output_type'] = 'display_data';\n",
              "          await google.colab.output.renderOutput(dataTable, element);\n",
              "          const docLink = document.createElement('div');\n",
              "          docLink.innerHTML = docLinkHtml;\n",
              "          element.appendChild(docLink);\n",
              "        }\n",
              "      </script>\n",
              "    </div>\n",
              "  </div>\n",
              "  "
            ]
          },
          "metadata": {},
          "execution_count": 109
        }
      ]
    },
    {
      "cell_type": "code",
      "source": [],
      "metadata": {
        "id": "-6vYf2tFaY95"
      },
      "execution_count": null,
      "outputs": []
    },
    {
      "cell_type": "code",
      "source": [],
      "metadata": {
        "id": "9IdwlSSlaZXd"
      },
      "execution_count": null,
      "outputs": []
    },
    {
      "cell_type": "code",
      "source": [
        "#Checking for missing values\n",
        "\n",
        "test_df.isnull().sum()"
      ],
      "metadata": {
        "colab": {
          "base_uri": "https://localhost:8080/"
        },
        "id": "XgVFBMZZcp0w",
        "outputId": "6ff77625-8bc6-407a-c02e-5aedc2a491e1"
      },
      "execution_count": null,
      "outputs": [
        {
          "output_type": "execute_result",
          "data": {
            "text/plain": [
              "Artist Name              0\n",
              "Track Name               0\n",
              "Popularity             394\n",
              "danceability             0\n",
              "energy                   0\n",
              "key                   1743\n",
              "loudness                 0\n",
              "mode                     0\n",
              "speechiness              0\n",
              "acousticness             0\n",
              "instrumentalness      3587\n",
              "liveness                 0\n",
              "valence                  0\n",
              "tempo                    0\n",
              "duration_in min/ms       0\n",
              "time_signature           0\n",
              "Genre                    0\n",
              "dtype: int64"
            ]
          },
          "metadata": {},
          "execution_count": 110
        }
      ]
    },
    {
      "cell_type": "markdown",
      "source": [
        "as the previous cell shows is that i have 3 columns that inckude some missing values and i will have to impute them"
      ],
      "metadata": {
        "id": "5BDZrLPbtrP8"
      }
    },
    {
      "cell_type": "code",
      "source": [
        "test_df.columns"
      ],
      "metadata": {
        "colab": {
          "base_uri": "https://localhost:8080/"
        },
        "id": "vgJqXL1BkAS-",
        "outputId": "448bd7c6-4456-4b69-9968-c8fa017ea53d"
      },
      "execution_count": null,
      "outputs": [
        {
          "output_type": "execute_result",
          "data": {
            "text/plain": [
              "Index(['Artist Name', 'Track Name', 'Popularity', 'danceability', 'energy',\n",
              "       'key', 'loudness', 'mode', 'speechiness', 'acousticness',\n",
              "       'instrumentalness', 'liveness', 'valence', 'tempo',\n",
              "       'duration_in min/ms', 'time_signature', 'Genre'],\n",
              "      dtype='object')"
            ]
          },
          "metadata": {},
          "execution_count": 111
        }
      ]
    },
    {
      "cell_type": "code",
      "source": [
        "from scipy.stats import zscore\n",
        "import numpy as np\n",
        "#handlong outliers\n",
        "# Define the threshold for outliers (e.g., 3 standard deviations)\n",
        "threshold = 3\n",
        "\n",
        "# Calculate z-scores for each numeric column\n",
        "z_scores = test_df.select_dtypes(include=[np.number]).apply(zscore)\n",
        "\n",
        "# Identify outliers based on the threshold\n",
        "outliers = test_df[(np.abs(z_scores) > threshold).any(axis=1)]\n",
        "\n",
        "# Remove the outliers\n",
        "test_df = test_df.drop(outliers.index)"
      ],
      "metadata": {
        "id": "FbUASCuyK1ob"
      },
      "execution_count": null,
      "outputs": []
    },
    {
      "cell_type": "code",
      "source": [
        "test_df.shape"
      ],
      "metadata": {
        "colab": {
          "base_uri": "https://localhost:8080/"
        },
        "id": "zpSHxoE3LBay",
        "outputId": "986feb94-f176-4088-9a9c-10c553f73ac3"
      },
      "execution_count": null,
      "outputs": [
        {
          "output_type": "execute_result",
          "data": {
            "text/plain": [
              "(14230, 17)"
            ]
          },
          "metadata": {},
          "execution_count": 113
        }
      ]
    },
    {
      "cell_type": "code",
      "source": [
        "#here i will impute the column \"key\" with mode\n",
        "# Calculate the mode of the column \"key\"\n",
        "mode_value = test_df[\"key\"].mode()[0]\n",
        "\n",
        "# Fill the missing values with the mode\n",
        "test_df[\"key\"].fillna(mode_value, inplace=True)\n",
        "\n",
        "\n"
      ],
      "metadata": {
        "id": "TSRMNOygO-vw"
      },
      "execution_count": null,
      "outputs": []
    },
    {
      "cell_type": "code",
      "source": [
        "# Here iam imputing the missing values in each column\n",
        "\n",
        "Popularity_med= test_df['Popularity'].mean()\n",
        "instrumentalness_med = test_df['instrumentalness'].mean()\n",
        "\n",
        "test_df['Popularity'].fillna(Popularity_med, inplace=True)\n",
        "test_df['instrumentalness'].fillna(instrumentalness_med, inplace=True)\n"
      ],
      "metadata": {
        "id": "jwF3oX3qifpY"
      },
      "execution_count": null,
      "outputs": []
    },
    {
      "cell_type": "code",
      "source": [
        "# no missing values after imputation\n",
        "test_df.isnull().sum()"
      ],
      "metadata": {
        "colab": {
          "base_uri": "https://localhost:8080/"
        },
        "id": "pTiNIOAtk2hT",
        "outputId": "e5a499b3-cd24-4c00-95f1-8722e0f4a499"
      },
      "execution_count": null,
      "outputs": [
        {
          "output_type": "execute_result",
          "data": {
            "text/plain": [
              "Artist Name           0\n",
              "Track Name            0\n",
              "Popularity            0\n",
              "danceability          0\n",
              "energy                0\n",
              "key                   0\n",
              "loudness              0\n",
              "mode                  0\n",
              "speechiness           0\n",
              "acousticness          0\n",
              "instrumentalness      0\n",
              "liveness              0\n",
              "valence               0\n",
              "tempo                 0\n",
              "duration_in min/ms    0\n",
              "time_signature        0\n",
              "Genre                 0\n",
              "dtype: int64"
            ]
          },
          "metadata": {},
          "execution_count": 117
        }
      ]
    },
    {
      "cell_type": "code",
      "source": [
        "test_df.shape"
      ],
      "metadata": {
        "colab": {
          "base_uri": "https://localhost:8080/"
        },
        "id": "umOQwqduMoPn",
        "outputId": "af059147-07bf-4125-cc8b-d576fe4a7cab"
      },
      "execution_count": null,
      "outputs": [
        {
          "output_type": "execute_result",
          "data": {
            "text/plain": [
              "(14230, 17)"
            ]
          },
          "metadata": {},
          "execution_count": 118
        }
      ]
    },
    {
      "cell_type": "code",
      "source": [
        "#Checking for duplicates in my dataframe , no duplicates found\n",
        "duplicates = test_df.duplicated()\n",
        "test_df[duplicates]\n"
      ],
      "metadata": {
        "colab": {
          "base_uri": "https://localhost:8080/",
          "height": 130
        },
        "id": "oNeqZpVem_FQ",
        "outputId": "53d98162-75c4-4c33-9619-02f1c6b072a1"
      },
      "execution_count": null,
      "outputs": [
        {
          "output_type": "execute_result",
          "data": {
            "text/plain": [
              "Empty DataFrame\n",
              "Columns: [Artist Name, Track Name, Popularity, danceability, energy, key, loudness, mode, speechiness, acousticness, instrumentalness, liveness, valence, tempo, duration_in min/ms, time_signature, Genre]\n",
              "Index: []"
            ],
            "text/html": [
              "\n",
              "  <div id=\"df-f2d43809-ee13-48e4-8aeb-9b1fb48d5436\">\n",
              "    <div class=\"colab-df-container\">\n",
              "      <div>\n",
              "<style scoped>\n",
              "    .dataframe tbody tr th:only-of-type {\n",
              "        vertical-align: middle;\n",
              "    }\n",
              "\n",
              "    .dataframe tbody tr th {\n",
              "        vertical-align: top;\n",
              "    }\n",
              "\n",
              "    .dataframe thead th {\n",
              "        text-align: right;\n",
              "    }\n",
              "</style>\n",
              "<table border=\"1\" class=\"dataframe\">\n",
              "  <thead>\n",
              "    <tr style=\"text-align: right;\">\n",
              "      <th></th>\n",
              "      <th>Artist Name</th>\n",
              "      <th>Track Name</th>\n",
              "      <th>Popularity</th>\n",
              "      <th>danceability</th>\n",
              "      <th>energy</th>\n",
              "      <th>key</th>\n",
              "      <th>loudness</th>\n",
              "      <th>mode</th>\n",
              "      <th>speechiness</th>\n",
              "      <th>acousticness</th>\n",
              "      <th>instrumentalness</th>\n",
              "      <th>liveness</th>\n",
              "      <th>valence</th>\n",
              "      <th>tempo</th>\n",
              "      <th>duration_in min/ms</th>\n",
              "      <th>time_signature</th>\n",
              "      <th>Genre</th>\n",
              "    </tr>\n",
              "  </thead>\n",
              "  <tbody>\n",
              "  </tbody>\n",
              "</table>\n",
              "</div>\n",
              "      <button class=\"colab-df-convert\" onclick=\"convertToInteractive('df-f2d43809-ee13-48e4-8aeb-9b1fb48d5436')\"\n",
              "              title=\"Convert this dataframe to an interactive table.\"\n",
              "              style=\"display:none;\">\n",
              "        \n",
              "  <svg xmlns=\"http://www.w3.org/2000/svg\" height=\"24px\"viewBox=\"0 0 24 24\"\n",
              "       width=\"24px\">\n",
              "    <path d=\"M0 0h24v24H0V0z\" fill=\"none\"/>\n",
              "    <path d=\"M18.56 5.44l.94 2.06.94-2.06 2.06-.94-2.06-.94-.94-2.06-.94 2.06-2.06.94zm-11 1L8.5 8.5l.94-2.06 2.06-.94-2.06-.94L8.5 2.5l-.94 2.06-2.06.94zm10 10l.94 2.06.94-2.06 2.06-.94-2.06-.94-.94-2.06-.94 2.06-2.06.94z\"/><path d=\"M17.41 7.96l-1.37-1.37c-.4-.4-.92-.59-1.43-.59-.52 0-1.04.2-1.43.59L10.3 9.45l-7.72 7.72c-.78.78-.78 2.05 0 2.83L4 21.41c.39.39.9.59 1.41.59.51 0 1.02-.2 1.41-.59l7.78-7.78 2.81-2.81c.8-.78.8-2.07 0-2.86zM5.41 20L4 18.59l7.72-7.72 1.47 1.35L5.41 20z\"/>\n",
              "  </svg>\n",
              "      </button>\n",
              "      \n",
              "  <style>\n",
              "    .colab-df-container {\n",
              "      display:flex;\n",
              "      flex-wrap:wrap;\n",
              "      gap: 12px;\n",
              "    }\n",
              "\n",
              "    .colab-df-convert {\n",
              "      background-color: #E8F0FE;\n",
              "      border: none;\n",
              "      border-radius: 50%;\n",
              "      cursor: pointer;\n",
              "      display: none;\n",
              "      fill: #1967D2;\n",
              "      height: 32px;\n",
              "      padding: 0 0 0 0;\n",
              "      width: 32px;\n",
              "    }\n",
              "\n",
              "    .colab-df-convert:hover {\n",
              "      background-color: #E2EBFA;\n",
              "      box-shadow: 0px 1px 2px rgba(60, 64, 67, 0.3), 0px 1px 3px 1px rgba(60, 64, 67, 0.15);\n",
              "      fill: #174EA6;\n",
              "    }\n",
              "\n",
              "    [theme=dark] .colab-df-convert {\n",
              "      background-color: #3B4455;\n",
              "      fill: #D2E3FC;\n",
              "    }\n",
              "\n",
              "    [theme=dark] .colab-df-convert:hover {\n",
              "      background-color: #434B5C;\n",
              "      box-shadow: 0px 1px 3px 1px rgba(0, 0, 0, 0.15);\n",
              "      filter: drop-shadow(0px 1px 2px rgba(0, 0, 0, 0.3));\n",
              "      fill: #FFFFFF;\n",
              "    }\n",
              "  </style>\n",
              "\n",
              "      <script>\n",
              "        const buttonEl =\n",
              "          document.querySelector('#df-f2d43809-ee13-48e4-8aeb-9b1fb48d5436 button.colab-df-convert');\n",
              "        buttonEl.style.display =\n",
              "          google.colab.kernel.accessAllowed ? 'block' : 'none';\n",
              "\n",
              "        async function convertToInteractive(key) {\n",
              "          const element = document.querySelector('#df-f2d43809-ee13-48e4-8aeb-9b1fb48d5436');\n",
              "          const dataTable =\n",
              "            await google.colab.kernel.invokeFunction('convertToInteractive',\n",
              "                                                     [key], {});\n",
              "          if (!dataTable) return;\n",
              "\n",
              "          const docLinkHtml = 'Like what you see? Visit the ' +\n",
              "            '<a target=\"_blank\" href=https://colab.research.google.com/notebooks/data_table.ipynb>data table notebook</a>'\n",
              "            + ' to learn more about interactive tables.';\n",
              "          element.innerHTML = '';\n",
              "          dataTable['output_type'] = 'display_data';\n",
              "          await google.colab.output.renderOutput(dataTable, element);\n",
              "          const docLink = document.createElement('div');\n",
              "          docLink.innerHTML = docLinkHtml;\n",
              "          element.appendChild(docLink);\n",
              "        }\n",
              "      </script>\n",
              "    </div>\n",
              "  </div>\n",
              "  "
            ]
          },
          "metadata": {},
          "execution_count": 119
        }
      ]
    },
    {
      "cell_type": "code",
      "source": [
        "# Convert 'duration_in min/ms' column from milliseconds to minutes\n",
        "test_df['duration_in_min'] = test_df['duration_in min/ms'] / 60000\n",
        "\n",
        "# Drop the original 'duration_in min/ms' column\n",
        "test_df.drop('duration_in min/ms', axis=1, inplace=True)\n",
        "\n",
        "# Display the result\n",
        "test_df.head(5)"
      ],
      "metadata": {
        "colab": {
          "base_uri": "https://localhost:8080/",
          "height": 443
        },
        "id": "4VWjYqn5QG-q",
        "outputId": "493de4a8-8bba-4325-d7d2-7cbb8848dd66"
      },
      "execution_count": null,
      "outputs": [
        {
          "output_type": "execute_result",
          "data": {
            "text/plain": [
              "             Artist Name                             Track Name  Popularity  \\\n",
              "0             Bruno Mars  That's What I Like (feat. Gucci Mane)        60.0   \n",
              "1                 Boston                           Hitch a Ride        54.0   \n",
              "2          The Raincoats                     No Side to Fall In        35.0   \n",
              "3                   Deno             Lingo (feat. J.I & Chunkz)        66.0   \n",
              "4  Red Hot Chili Peppers      Nobody Weird Like Me - Remastered        53.0   \n",
              "\n",
              "   danceability  energy   key  loudness  mode  speechiness  acousticness  \\\n",
              "0         0.854   0.564   1.0    -4.964     1       0.0485      0.017100   \n",
              "1         0.382   0.814   3.0    -7.230     1       0.0406      0.001100   \n",
              "2         0.434   0.614   6.0    -8.334     1       0.0525      0.486000   \n",
              "3         0.853   0.597  10.0    -6.528     0       0.0555      0.021200   \n",
              "4         0.167   0.975   2.0    -4.279     1       0.2160      0.000169   \n",
              "\n",
              "   instrumentalness  liveness  valence    tempo  time_signature  Genre  \\\n",
              "0          0.164829    0.0849   0.8990  134.071               4      5   \n",
              "1          0.004010    0.1010   0.5690  116.454               4     10   \n",
              "2          0.000196    0.3940   0.7870  147.681               4      6   \n",
              "3          0.164829    0.1220   0.5690  107.033               4      5   \n",
              "4          0.016100    0.1720   0.0918  199.060               4     10   \n",
              "\n",
              "   duration_in_min  \n",
              "0         3.909933  \n",
              "1         4.195550  \n",
              "2         1.827783  \n",
              "3         2.899467  \n",
              "4         3.832667  "
            ],
            "text/html": [
              "\n",
              "  <div id=\"df-b6bf3bc7-49f6-4a5b-9ddb-cc93309a94c4\">\n",
              "    <div class=\"colab-df-container\">\n",
              "      <div>\n",
              "<style scoped>\n",
              "    .dataframe tbody tr th:only-of-type {\n",
              "        vertical-align: middle;\n",
              "    }\n",
              "\n",
              "    .dataframe tbody tr th {\n",
              "        vertical-align: top;\n",
              "    }\n",
              "\n",
              "    .dataframe thead th {\n",
              "        text-align: right;\n",
              "    }\n",
              "</style>\n",
              "<table border=\"1\" class=\"dataframe\">\n",
              "  <thead>\n",
              "    <tr style=\"text-align: right;\">\n",
              "      <th></th>\n",
              "      <th>Artist Name</th>\n",
              "      <th>Track Name</th>\n",
              "      <th>Popularity</th>\n",
              "      <th>danceability</th>\n",
              "      <th>energy</th>\n",
              "      <th>key</th>\n",
              "      <th>loudness</th>\n",
              "      <th>mode</th>\n",
              "      <th>speechiness</th>\n",
              "      <th>acousticness</th>\n",
              "      <th>instrumentalness</th>\n",
              "      <th>liveness</th>\n",
              "      <th>valence</th>\n",
              "      <th>tempo</th>\n",
              "      <th>time_signature</th>\n",
              "      <th>Genre</th>\n",
              "      <th>duration_in_min</th>\n",
              "    </tr>\n",
              "  </thead>\n",
              "  <tbody>\n",
              "    <tr>\n",
              "      <th>0</th>\n",
              "      <td>Bruno Mars</td>\n",
              "      <td>That's What I Like (feat. Gucci Mane)</td>\n",
              "      <td>60.0</td>\n",
              "      <td>0.854</td>\n",
              "      <td>0.564</td>\n",
              "      <td>1.0</td>\n",
              "      <td>-4.964</td>\n",
              "      <td>1</td>\n",
              "      <td>0.0485</td>\n",
              "      <td>0.017100</td>\n",
              "      <td>0.164829</td>\n",
              "      <td>0.0849</td>\n",
              "      <td>0.8990</td>\n",
              "      <td>134.071</td>\n",
              "      <td>4</td>\n",
              "      <td>5</td>\n",
              "      <td>3.909933</td>\n",
              "    </tr>\n",
              "    <tr>\n",
              "      <th>1</th>\n",
              "      <td>Boston</td>\n",
              "      <td>Hitch a Ride</td>\n",
              "      <td>54.0</td>\n",
              "      <td>0.382</td>\n",
              "      <td>0.814</td>\n",
              "      <td>3.0</td>\n",
              "      <td>-7.230</td>\n",
              "      <td>1</td>\n",
              "      <td>0.0406</td>\n",
              "      <td>0.001100</td>\n",
              "      <td>0.004010</td>\n",
              "      <td>0.1010</td>\n",
              "      <td>0.5690</td>\n",
              "      <td>116.454</td>\n",
              "      <td>4</td>\n",
              "      <td>10</td>\n",
              "      <td>4.195550</td>\n",
              "    </tr>\n",
              "    <tr>\n",
              "      <th>2</th>\n",
              "      <td>The Raincoats</td>\n",
              "      <td>No Side to Fall In</td>\n",
              "      <td>35.0</td>\n",
              "      <td>0.434</td>\n",
              "      <td>0.614</td>\n",
              "      <td>6.0</td>\n",
              "      <td>-8.334</td>\n",
              "      <td>1</td>\n",
              "      <td>0.0525</td>\n",
              "      <td>0.486000</td>\n",
              "      <td>0.000196</td>\n",
              "      <td>0.3940</td>\n",
              "      <td>0.7870</td>\n",
              "      <td>147.681</td>\n",
              "      <td>4</td>\n",
              "      <td>6</td>\n",
              "      <td>1.827783</td>\n",
              "    </tr>\n",
              "    <tr>\n",
              "      <th>3</th>\n",
              "      <td>Deno</td>\n",
              "      <td>Lingo (feat. J.I &amp; Chunkz)</td>\n",
              "      <td>66.0</td>\n",
              "      <td>0.853</td>\n",
              "      <td>0.597</td>\n",
              "      <td>10.0</td>\n",
              "      <td>-6.528</td>\n",
              "      <td>0</td>\n",
              "      <td>0.0555</td>\n",
              "      <td>0.021200</td>\n",
              "      <td>0.164829</td>\n",
              "      <td>0.1220</td>\n",
              "      <td>0.5690</td>\n",
              "      <td>107.033</td>\n",
              "      <td>4</td>\n",
              "      <td>5</td>\n",
              "      <td>2.899467</td>\n",
              "    </tr>\n",
              "    <tr>\n",
              "      <th>4</th>\n",
              "      <td>Red Hot Chili Peppers</td>\n",
              "      <td>Nobody Weird Like Me - Remastered</td>\n",
              "      <td>53.0</td>\n",
              "      <td>0.167</td>\n",
              "      <td>0.975</td>\n",
              "      <td>2.0</td>\n",
              "      <td>-4.279</td>\n",
              "      <td>1</td>\n",
              "      <td>0.2160</td>\n",
              "      <td>0.000169</td>\n",
              "      <td>0.016100</td>\n",
              "      <td>0.1720</td>\n",
              "      <td>0.0918</td>\n",
              "      <td>199.060</td>\n",
              "      <td>4</td>\n",
              "      <td>10</td>\n",
              "      <td>3.832667</td>\n",
              "    </tr>\n",
              "  </tbody>\n",
              "</table>\n",
              "</div>\n",
              "      <button class=\"colab-df-convert\" onclick=\"convertToInteractive('df-b6bf3bc7-49f6-4a5b-9ddb-cc93309a94c4')\"\n",
              "              title=\"Convert this dataframe to an interactive table.\"\n",
              "              style=\"display:none;\">\n",
              "        \n",
              "  <svg xmlns=\"http://www.w3.org/2000/svg\" height=\"24px\"viewBox=\"0 0 24 24\"\n",
              "       width=\"24px\">\n",
              "    <path d=\"M0 0h24v24H0V0z\" fill=\"none\"/>\n",
              "    <path d=\"M18.56 5.44l.94 2.06.94-2.06 2.06-.94-2.06-.94-.94-2.06-.94 2.06-2.06.94zm-11 1L8.5 8.5l.94-2.06 2.06-.94-2.06-.94L8.5 2.5l-.94 2.06-2.06.94zm10 10l.94 2.06.94-2.06 2.06-.94-2.06-.94-.94-2.06-.94 2.06-2.06.94z\"/><path d=\"M17.41 7.96l-1.37-1.37c-.4-.4-.92-.59-1.43-.59-.52 0-1.04.2-1.43.59L10.3 9.45l-7.72 7.72c-.78.78-.78 2.05 0 2.83L4 21.41c.39.39.9.59 1.41.59.51 0 1.02-.2 1.41-.59l7.78-7.78 2.81-2.81c.8-.78.8-2.07 0-2.86zM5.41 20L4 18.59l7.72-7.72 1.47 1.35L5.41 20z\"/>\n",
              "  </svg>\n",
              "      </button>\n",
              "      \n",
              "  <style>\n",
              "    .colab-df-container {\n",
              "      display:flex;\n",
              "      flex-wrap:wrap;\n",
              "      gap: 12px;\n",
              "    }\n",
              "\n",
              "    .colab-df-convert {\n",
              "      background-color: #E8F0FE;\n",
              "      border: none;\n",
              "      border-radius: 50%;\n",
              "      cursor: pointer;\n",
              "      display: none;\n",
              "      fill: #1967D2;\n",
              "      height: 32px;\n",
              "      padding: 0 0 0 0;\n",
              "      width: 32px;\n",
              "    }\n",
              "\n",
              "    .colab-df-convert:hover {\n",
              "      background-color: #E2EBFA;\n",
              "      box-shadow: 0px 1px 2px rgba(60, 64, 67, 0.3), 0px 1px 3px 1px rgba(60, 64, 67, 0.15);\n",
              "      fill: #174EA6;\n",
              "    }\n",
              "\n",
              "    [theme=dark] .colab-df-convert {\n",
              "      background-color: #3B4455;\n",
              "      fill: #D2E3FC;\n",
              "    }\n",
              "\n",
              "    [theme=dark] .colab-df-convert:hover {\n",
              "      background-color: #434B5C;\n",
              "      box-shadow: 0px 1px 3px 1px rgba(0, 0, 0, 0.15);\n",
              "      filter: drop-shadow(0px 1px 2px rgba(0, 0, 0, 0.3));\n",
              "      fill: #FFFFFF;\n",
              "    }\n",
              "  </style>\n",
              "\n",
              "      <script>\n",
              "        const buttonEl =\n",
              "          document.querySelector('#df-b6bf3bc7-49f6-4a5b-9ddb-cc93309a94c4 button.colab-df-convert');\n",
              "        buttonEl.style.display =\n",
              "          google.colab.kernel.accessAllowed ? 'block' : 'none';\n",
              "\n",
              "        async function convertToInteractive(key) {\n",
              "          const element = document.querySelector('#df-b6bf3bc7-49f6-4a5b-9ddb-cc93309a94c4');\n",
              "          const dataTable =\n",
              "            await google.colab.kernel.invokeFunction('convertToInteractive',\n",
              "                                                     [key], {});\n",
              "          if (!dataTable) return;\n",
              "\n",
              "          const docLinkHtml = 'Like what you see? Visit the ' +\n",
              "            '<a target=\"_blank\" href=https://colab.research.google.com/notebooks/data_table.ipynb>data table notebook</a>'\n",
              "            + ' to learn more about interactive tables.';\n",
              "          element.innerHTML = '';\n",
              "          dataTable['output_type'] = 'display_data';\n",
              "          await google.colab.output.renderOutput(dataTable, element);\n",
              "          const docLink = document.createElement('div');\n",
              "          docLink.innerHTML = docLinkHtml;\n",
              "          element.appendChild(docLink);\n",
              "        }\n",
              "      </script>\n",
              "    </div>\n",
              "  </div>\n",
              "  "
            ]
          },
          "metadata": {},
          "execution_count": 123
        }
      ]
    },
    {
      "cell_type": "code",
      "source": [
        "test_df.columns"
      ],
      "metadata": {
        "colab": {
          "base_uri": "https://localhost:8080/"
        },
        "id": "t5PWpNDmRrOB",
        "outputId": "694f37b7-a743-4dce-9a98-4ff1af65d464"
      },
      "execution_count": null,
      "outputs": [
        {
          "output_type": "execute_result",
          "data": {
            "text/plain": [
              "Index(['Artist Name', 'Track Name', 'Popularity', 'danceability', 'energy',\n",
              "       'key', 'loudness', 'mode', 'speechiness', 'acousticness',\n",
              "       'instrumentalness', 'liveness', 'valence', 'tempo', 'time_signature',\n",
              "       'Genre', 'duration_in_min'],\n",
              "      dtype='object')"
            ]
          },
          "metadata": {},
          "execution_count": 131
        }
      ]
    },
    {
      "cell_type": "markdown",
      "source": [
        "**Start Assignment Steps**"
      ],
      "metadata": {
        "id": "MOnqI_5SRJ7-"
      }
    },
    {
      "cell_type": "code",
      "source": [
        "sample2_df = test_df"
      ],
      "metadata": {
        "id": "M5M78nqlP2V4"
      },
      "execution_count": null,
      "outputs": []
    },
    {
      "cell_type": "code",
      "source": [
        "sample3_df = test_df"
      ],
      "metadata": {
        "id": "GOmrumBsQ7c9"
      },
      "execution_count": null,
      "outputs": []
    },
    {
      "cell_type": "code",
      "source": [
        "new_df = df"
      ],
      "metadata": {
        "id": "Zr_qOzB9uCB2"
      },
      "execution_count": null,
      "outputs": []
    },
    {
      "cell_type": "markdown",
      "source": [
        "# Step (b) Remove any songs that exceed 5 minutes"
      ],
      "metadata": {
        "id": "E2-xn5POuCbO"
      }
    },
    {
      "cell_type": "code",
      "source": [
        "#adding my cleaned dataframe to be a spark dataframe\n",
        "sdf = spark.createDataFrame(new_df)"
      ],
      "metadata": {
        "id": "aoBqfExy-mvt"
      },
      "execution_count": null,
      "outputs": []
    },
    {
      "cell_type": "code",
      "source": [
        "new_sdf = spark.createDataFrame(sample2_df)"
      ],
      "metadata": {
        "id": "3qm3cgodRTtt"
      },
      "execution_count": null,
      "outputs": []
    },
    {
      "cell_type": "code",
      "source": [
        "new_sdf.show(5)"
      ],
      "metadata": {
        "colab": {
          "base_uri": "https://localhost:8080/"
        },
        "id": "w8Hi9_2eRdAC",
        "outputId": "9d8586cb-e1e8-43a9-fec9-65a673143b31"
      },
      "execution_count": null,
      "outputs": [
        {
          "output_type": "stream",
          "name": "stdout",
          "text": [
            "+--------------------+--------------------+----------+------------+------+----+--------+----+-----------+------------+-------------------+--------+-------+-------+--------------+-----+------------------+\n",
            "|         Artist Name|          Track Name|Popularity|danceability|energy| key|loudness|mode|speechiness|acousticness|   instrumentalness|liveness|valence|  tempo|time_signature|Genre|   duration_in_min|\n",
            "+--------------------+--------------------+----------+------------+------+----+--------+----+-----------+------------+-------------------+--------+-------+-------+--------------+-----+------------------+\n",
            "|          Bruno Mars|That's What I Lik...|      60.0|       0.854| 0.564| 1.0|  -4.964|   1|     0.0485|      0.0171|0.16482863369707432|  0.0849|  0.899|134.071|             4|    5|3.9099333333333335|\n",
            "|              Boston|        Hitch a Ride|      54.0|       0.382| 0.814| 3.0|   -7.23|   1|     0.0406|      0.0011|            0.00401|   0.101|  0.569|116.454|             4|   10|           4.19555|\n",
            "|       The Raincoats|  No Side to Fall In|      35.0|       0.434| 0.614| 6.0|  -8.334|   1|     0.0525|       0.486|            1.96E-4|   0.394|  0.787|147.681|             4|    6|1.8277833333333333|\n",
            "|                Deno|Lingo (feat. J.I ...|      66.0|       0.853| 0.597|10.0|  -6.528|   0|     0.0555|      0.0212|0.16482863369707432|   0.122|  0.569|107.033|             4|    5|2.8994666666666666|\n",
            "|Red Hot Chili Pep...|Nobody Weird Like...|      53.0|       0.167| 0.975| 2.0|  -4.279|   1|      0.216|     1.69E-4|             0.0161|   0.172| 0.0918| 199.06|             4|   10| 3.832666666666667|\n",
            "+--------------------+--------------------+----------+------------+------+----+--------+----+-----------+------------+-------------------+--------+-------+-------+--------------+-----+------------------+\n",
            "only showing top 5 rows\n",
            "\n"
          ]
        }
      ]
    },
    {
      "cell_type": "code",
      "source": [
        "# 5 minutes = 300000 ms , so here iam removing rows which have a value in the column \"duration_in min\" of more than 5 min\n",
        "\n",
        "# NOTE : the column \"duration_in min\" has values starting with values that are greater than 5 ,  but if you look closely you\n",
        "#        will see that at the end of these specific values there is (E-5) or something else , which indicates that these values are less than 5\n",
        "new_sdf_2 = new_sdf.filter(col('duration_in_min') <= 5)\n",
        "new_sdf_2.show()"
      ],
      "metadata": {
        "colab": {
          "base_uri": "https://localhost:8080/"
        },
        "id": "WpLDgk_2_OqI",
        "outputId": "33508f1a-a33b-49c8-cb1f-b8969604e893"
      },
      "execution_count": null,
      "outputs": [
        {
          "output_type": "stream",
          "name": "stdout",
          "text": [
            "+--------------------+--------------------+-----------------+------------+------+----+--------+----+-----------+------------+-------------------+--------+-------+-------+--------------+-----+--------------------+\n",
            "|         Artist Name|          Track Name|       Popularity|danceability|energy| key|loudness|mode|speechiness|acousticness|   instrumentalness|liveness|valence|  tempo|time_signature|Genre|     duration_in_min|\n",
            "+--------------------+--------------------+-----------------+------------+------+----+--------+----+-----------+------------+-------------------+--------+-------+-------+--------------+-----+--------------------+\n",
            "|          Bruno Mars|That's What I Lik...|             60.0|       0.854| 0.564| 1.0|  -4.964|   1|     0.0485|      0.0171|0.16482863369707432|  0.0849|  0.899|134.071|             4|    5|  3.9099333333333335|\n",
            "|              Boston|        Hitch a Ride|             54.0|       0.382| 0.814| 3.0|   -7.23|   1|     0.0406|      0.0011|            0.00401|   0.101|  0.569|116.454|             4|   10|             4.19555|\n",
            "|       The Raincoats|  No Side to Fall In|             35.0|       0.434| 0.614| 6.0|  -8.334|   1|     0.0525|       0.486|            1.96E-4|   0.394|  0.787|147.681|             4|    6|  1.8277833333333333|\n",
            "|                Deno|Lingo (feat. J.I ...|             66.0|       0.853| 0.597|10.0|  -6.528|   0|     0.0555|      0.0212|0.16482863369707432|   0.122|  0.569|107.033|             4|    5|  2.8994666666666666|\n",
            "|Red Hot Chili Pep...|Nobody Weird Like...|             53.0|       0.167| 0.975| 2.0|  -4.279|   1|      0.216|     1.69E-4|             0.0161|   0.172| 0.0918| 199.06|             4|   10|   3.832666666666667|\n",
            "|         The Stooges|Search and Destro...|             53.0|       0.235| 0.977| 6.0|   0.878|   1|      0.107|     0.00353|            0.00604|   0.172|  0.241|152.952|             4|    6|  3.4688833333333333|\n",
            "|        Randy Travis|   On the Other Hand|             55.0|       0.657| 0.415| 5.0|  -9.915|   1|      0.025|       0.175|            5.65E-6|   0.132|  0.347|  96.03|             4|    4|      5.176305555E-5|\n",
            "|Professional Murd...|                Slow|             29.0|       0.431| 0.776|10.0|  -5.403|   1|     0.0527|     2.21E-5|             0.0013|   0.179|  0.318|120.857|             4|    8|             3.96445|\n",
            "|       Mohammed Rafi|Meri Dosti Mera Pyar|             11.0|       0.491| 0.563| 7.0|  -8.588|   0|     0.0331|       0.957|             0.0023|   0.263|  0.843| 95.558|             4|    3|7.217416666666666E-5|\n",
            "|      Arctic Monkeys|The View From The...|             59.0|       0.387| 0.922| 9.0|  -5.192|   0|     0.0674|     0.00487|0.16482863369707432|   0.187|  0.417|146.478|             4|   10|  3.7157833333333334|\n",
            "|Harald Lassen, Br...|  How it feels pt. 2|             34.0|       0.462| 0.374|11.0| -12.069|   0|     0.0331|       0.949|              0.929|   0.131|  0.174|122.939|             3|    7|7.400416666666667E-5|\n",
            "| Buffalo Springfield| For What It's Worth|             76.0|       0.653| 0.519| 2.0| -10.164|   1|     0.0497|       0.406|             0.0209|   0.101|  0.822| 98.883|             4|   10|             2.56155|\n",
            "|        Elmore James|       Madison Blues|             37.0|       0.431| 0.852| 2.0|  -6.522|   1|     0.0431|       0.564|              0.208|   0.254|  0.794| 67.601|             4|    2|  2.4466666666666668|\n",
            "|  Velvet Two Stripes|              Drinks|             31.0|       0.564| 0.801| 1.0|   -4.73|   0|     0.0473|     0.00233|             0.0078|   0.067|  0.401| 105.01|             4|   10|             2.57155|\n",
            "|              DaBaby|Baby Sitter (feat...|             70.0|       0.852|  0.73| 1.0|  -5.803|   1|     0.0579|      0.0219|0.16482863369707432|   0.336|  0.394| 92.506|             4|    5|   2.628216666666667|\n",
            "|           Mura Masa|Teenage Headache ...|             48.0|       0.347| 0.411| 6.0|  -8.071|   1|     0.0414|      0.0181|              0.636|  0.0975|  0.395|171.991|             4|    6|  4.7168833333333335|\n",
            "|Clairmont The Second|         intres-ting|             44.0|       0.796| 0.441| 7.0|   -9.83|   1|      0.292|        0.16|            2.89E-5|   0.118|  0.371|158.105|             4|    1|  2.2978666666666667|\n",
            "|           Krankhead|          Cut Throat|             29.0|       0.805| 0.448| 7.0|  -9.452|   1|      0.112|      0.0602|            1.79E-6|   0.113|  0.775|160.018|             4|    5|                 2.3|\n",
            "|               R3HAB| Whiplash - Acoustic|             44.0|       0.556| 0.188| 8.0| -12.161|   1|     0.0316|       0.494|0.16482863369707432|   0.119|  0.184|138.091|             4|    9|  2.4202833333333333|\n",
            "|IndianRaga, Aksha...|Swagatham Krishna...|45.90763573437162|       0.548| 0.711|10.0|   -8.44|   1|      0.107|       0.542|            9.59E-5|   0.355|  0.618|119.675|             3|    0|6.692722221666668E-5|\n",
            "+--------------------+--------------------+-----------------+------------+------+----+--------+----+-----------+------------+-------------------+--------+-------+-------+--------------+-----+--------------------+\n",
            "only showing top 20 rows\n",
            "\n"
          ]
        }
      ]
    },
    {
      "cell_type": "markdown",
      "source": [
        "# Step (C) Display songs by J. Cole, Novo Amor and Anson Seabra"
      ],
      "metadata": {
        "id": "5Ku-1AiM7YZD"
      }
    },
    {
      "cell_type": "code",
      "source": [
        "# i filter the DataFrame based on the \"Artist Name\" column values that are present in the artist_names list\n",
        "artist_names = ['J. Cole', 'Novo Amor', 'Anson Seabra']\n",
        "new_sdf_3 = new_sdf.filter(col(\"Artist Name\").isin(artist_names))\n",
        "\n",
        "new_sdf_3.show()"
      ],
      "metadata": {
        "colab": {
          "base_uri": "https://localhost:8080/"
        },
        "id": "v3HEqp_C-qPC",
        "outputId": "72778392-77cf-4581-b4b2-14aac09c38b9"
      },
      "execution_count": null,
      "outputs": [
        {
          "output_type": "stream",
          "name": "stdout",
          "text": [
            "+------------+--------------------+----------+------------+------+---+--------+----+-----------+------------+-------------------+--------+-------+-------+--------------+-----+------------------+\n",
            "| Artist Name|          Track Name|Popularity|danceability|energy|key|loudness|mode|speechiness|acousticness|   instrumentalness|liveness|valence|  tempo|time_signature|Genre|   duration_in_min|\n",
            "+------------+--------------------+----------+------------+------+---+--------+----+-----------+------------+-------------------+--------+-------+-------+--------------+-----+------------------+\n",
            "|     J. Cole|   i n t e r l u d e|      81.0|        0.77| 0.574|1.0|  -5.525|   1|      0.106|      0.0617|0.16482863369707432|   0.104|  0.104| 98.962|             3|    5| 2.217033333333333|\n",
            "|     J. Cole|m y . l i f e (wi...|      86.0|       0.597| 0.587|7.0|  -7.026|   0|      0.137|      0.0622|0.16482863369707432|   0.214| 0.0753|140.021|             4|    9|            3.6467|\n",
            "|   Novo Amor|            Birdcage|      54.0|       0.574| 0.407|1.0|  -8.321|   1|     0.0243|       0.902|              0.637|  0.0927|  0.223| 82.047|             4|    6|           3.37045|\n",
            "|     J. Cole|a p p l y i n g ....|      82.0|       0.699| 0.759|1.0|  -5.302|   1|      0.311|      0.0814|0.16482863369707432|   0.312|  0.404| 83.092|             4|    5| 2.955616666666667|\n",
            "|     J. Cole|           a m a r i|      86.0|       0.725| 0.713|4.0|  -6.173|   0|      0.187|       0.127|0.16482863369707432|   0.617|  0.207| 65.988|             4|    9|2.4736833333333332|\n",
            "|     J. Cole|           a m a r i|      86.0|       0.725| 0.713|4.0|  -6.173|   0|      0.187|       0.127|0.16482863369707432|   0.617|  0.207| 65.988|             4|    5|2.4736833333333332|\n",
            "|Anson Seabra|           Magazines|      46.0|       0.775| 0.424|5.0| -12.276|   1|     0.0675|       0.511|0.16482863369707432|   0.123|  0.191| 114.95|             4|    9|            3.6675|\n",
            "|Anson Seabra|It's Raining, It'...|      70.0|       0.598| 0.444|2.0|  -8.683|   0|     0.0327|        0.68|            1.94E-5|   0.142|  0.286|113.919|             4|    9|            3.0515|\n",
            "|     J. Cole|l e t . g o . m y...|      82.0|       0.583| 0.625|1.0|  -8.011|   1|      0.277|       0.506|0.16482863369707432|   0.196|  0.516| 89.812|             4|    5| 4.438183333333333|\n",
            "+------------+--------------------+----------+------------+------+---+--------+----+-----------+------------+-------------------+--------+-------+-------+--------------+-----+------------------+\n",
            "\n"
          ]
        }
      ]
    },
    {
      "cell_type": "markdown",
      "source": [
        "# Step (D)  How many songs are included in every category?"
      ],
      "metadata": {
        "id": "AKt3nzSwC06j"
      }
    },
    {
      "cell_type": "code",
      "source": [
        "from pyspark.sql.functions import count\n",
        "#i solves this question using 2 methods becuse if what i understood from the question in not clear\n",
        "\n",
        "#Method 1 , here i used the groupBy function to group the data by the \"Genre\" / Category. The agg function is used to apply the aggregation function count(\"*\")\n",
        "new_sdf_4 = new_sdf.groupBy(\"Genre\").agg(count(\"*\").alias(\"SongCount\"))\n",
        "\n",
        "new_sdf_4.show()"
      ],
      "metadata": {
        "colab": {
          "base_uri": "https://localhost:8080/"
        },
        "id": "k8oTCYABUAAi",
        "outputId": "7b15e8a4-7fa5-437f-f539-649a3aa953f4"
      },
      "execution_count": null,
      "outputs": [
        {
          "output_type": "stream",
          "name": "stdout",
          "text": [
            "+-----+---------+\n",
            "|Genre|SongCount|\n",
            "+-----+---------+\n",
            "|    0|      567|\n",
            "|    7|      286|\n",
            "|    6|     2131|\n",
            "|    9|     1714|\n",
            "|    5|      890|\n",
            "|    1|     1198|\n",
            "|   10|     4046|\n",
            "|    3|      344|\n",
            "|    8|     1610|\n",
            "|    2|     1077|\n",
            "|    4|      367|\n",
            "+-----+---------+\n",
            "\n"
          ]
        }
      ]
    },
    {
      "cell_type": "code",
      "source": [
        "\n",
        "new_sdf_5 = new_sdf.select(\"Track Name\",\"Genre\").sort(\"Genre\", ascending=False).show(20)"
      ],
      "metadata": {
        "colab": {
          "base_uri": "https://localhost:8080/"
        },
        "id": "2GmQN-T38-ZN",
        "outputId": "eb4c0f33-68b5-4418-bb73-ddc625cc95cf"
      },
      "execution_count": null,
      "outputs": [
        {
          "output_type": "stream",
          "name": "stdout",
          "text": [
            "+--------------------+-----+\n",
            "|          Track Name|Genre|\n",
            "+--------------------+-----+\n",
            "|               Lotus|   10|\n",
            "|               Shine|   10|\n",
            "|        Feel so Fine|   10|\n",
            "|          Feeling Ok|   10|\n",
            "|             Athlete|   10|\n",
            "|Caught in a Flood...|   10|\n",
            "|Nobody Weird Like...|   10|\n",
            "|         Down to You|   10|\n",
            "|Stay Away (feat. ...|   10|\n",
            "|           Club Zero|   10|\n",
            "| For What It's Worth|   10|\n",
            "|           Cold Arms|   10|\n",
            "| Sometimes Salvation|   10|\n",
            "|             Realize|   10|\n",
            "|       Driving South|   10|\n",
            "|   Smoke And Mirrors|   10|\n",
            "|      Burn the Witch|   10|\n",
            "|                O.E.|   10|\n",
            "|            Lazy Eye|   10|\n",
            "|           Hurricane|   10|\n",
            "+--------------------+-----+\n",
            "only showing top 20 rows\n",
            "\n"
          ]
        }
      ]
    },
    {
      "cell_type": "markdown",
      "source": [
        "# Step (E) Which artists dominated the charts?\n"
      ],
      "metadata": {
        "id": "Z0qbxCfyHQQi"
      }
    },
    {
      "cell_type": "code",
      "source": [
        "# i belive that question (E) and (F) are the same , you can read my explanation in the next cell\n",
        "new_sdf11 = new_sdf.select(\"Artist Name\",\"Popularity\").sort(\"Popularity\", ascending=False).show(5)"
      ],
      "metadata": {
        "colab": {
          "base_uri": "https://localhost:8080/"
        },
        "id": "uWRUHt0OHPn8",
        "outputId": "3f4bc1e0-9dee-44b9-9f0d-24f2fa1e84f4"
      },
      "execution_count": null,
      "outputs": [
        {
          "output_type": "stream",
          "name": "stdout",
          "text": [
            "+--------------+----------+\n",
            "|   Artist Name|Popularity|\n",
            "+--------------+----------+\n",
            "|     Lil Nas X|     100.0|\n",
            "|      Måneskin|     100.0|\n",
            "|Olivia Rodrigo|      99.0|\n",
            "|      Doja Cat|      98.0|\n",
            "|    Ed Sheeran|      97.0|\n",
            "+--------------+----------+\n",
            "only showing top 5 rows\n",
            "\n"
          ]
        }
      ]
    },
    {
      "cell_type": "code",
      "source": [],
      "metadata": {
        "id": "jdMNJr5NXhRK"
      },
      "execution_count": null,
      "outputs": []
    },
    {
      "cell_type": "markdown",
      "source": [
        "# Step (f) What songs would be considered for the “Billboard Top 10 Songs of the Year”?\n"
      ],
      "metadata": {
        "id": "ilhNVSlyXiNM"
      }
    },
    {
      "cell_type": "code",
      "source": [
        "# from my interpretation of the question ,  to consider a song to be form the top 10 billboard songs of the year\n",
        "# i would sort the song based on popularity , as popular songs are the most frequenlty played and liked\n",
        "# so here i just sorted by popularity\n",
        "new_sdf_7 = new_sdf.select(\"Artist Name\",\"Track Name\",\"Popularity\").sort(\"Popularity\", ascending=False).show(10)"
      ],
      "metadata": {
        "colab": {
          "base_uri": "https://localhost:8080/"
        },
        "id": "gRFzWcpaJA5R",
        "outputId": "3a4c6d48-768e-4f6b-afad-2548d535b022"
      },
      "execution_count": null,
      "outputs": [
        {
          "output_type": "stream",
          "name": "stdout",
          "text": [
            "+--------------------+--------------------+----------+\n",
            "|         Artist Name|          Track Name|Popularity|\n",
            "+--------------------+--------------------+----------+\n",
            "|           Lil Nas X|MONTERO (Call Me ...|     100.0|\n",
            "|            Måneskin|             Beggin'|     100.0|\n",
            "|      Olivia Rodrigo|            good 4 u|      99.0|\n",
            "|            Doja Cat|Kiss Me More (fea...|      98.0|\n",
            "|The Kid LAROI, Ju...|STAY (with Justin...|      97.0|\n",
            "|         Masked Wolf|Astronaut In The ...|      97.0|\n",
            "|          Ed Sheeran|          Bad Habits|      97.0|\n",
            "|The Kid LAROI, Ju...|STAY (with Justin...|      97.0|\n",
            "|                 BTS|              Butter|      96.0|\n",
            "|              Polo G|             RAPSTAR|      96.0|\n",
            "+--------------------+--------------------+----------+\n",
            "only showing top 10 rows\n",
            "\n"
          ]
        }
      ]
    },
    {
      "cell_type": "markdown",
      "source": [
        "# Step (g) Recommend at least 5 songs that can be played at a party\n"
      ],
      "metadata": {
        "id": "LynEIiaRYrqK"
      }
    },
    {
      "cell_type": "code",
      "source": [
        "#Well party songs should be loud , includes alot of dancing , has Valence , has alot of Energy , high Tempo\n",
        "# here i filterd the data and i put relativley high values for the attributes i just stated , to signify it is a party song\n",
        "\n",
        "new_sdf_10 = new_sdf.select(\"Artist Name\", \"Track Name\").filter((new_sdf.danceability >= 0.7) & (new_sdf.energy >= 0.7) & (new_sdf.valence >= 0.7) & (new_sdf.tempo >= 160)).limit(5)\n",
        "\n",
        "# Show the result DataFrame\n",
        "new_sdf_10.show()\n"
      ],
      "metadata": {
        "colab": {
          "base_uri": "https://localhost:8080/"
        },
        "id": "DBHDv88SYwH6",
        "outputId": "bc7b3f41-571d-4986-c14c-0868f486d5e1"
      },
      "execution_count": null,
      "outputs": [
        {
          "output_type": "stream",
          "name": "stdout",
          "text": [
            "+----------------+-----------------+\n",
            "|     Artist Name|       Track Name|\n",
            "+----------------+-----------------+\n",
            "|           Jeezy|    And Then What|\n",
            "|          M-Beat|       Incredible|\n",
            "|Patrick Paige II|        Freestyle|\n",
            "|  Rauw Alejandro|El Efecto - Remix|\n",
            "|         MC Lyte|         Ruffneck|\n",
            "+----------------+-----------------+\n",
            "\n"
          ]
        }
      ]
    }
  ]
}